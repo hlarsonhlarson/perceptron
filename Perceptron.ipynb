{
  "nbformat": 4,
  "nbformat_minor": 0,
  "metadata": {
    "colab": {
      "name": "Perceptron.ipynb",
      "provenance": [],
      "collapsed_sections": [],
      "authorship_tag": "ABX9TyMfcMTqcLu1bX6cOAF1wmpf",
      "include_colab_link": true
    },
    "kernelspec": {
      "name": "python3",
      "display_name": "Python 3"
    }
  },
  "cells": [
    {
      "cell_type": "markdown",
      "metadata": {
        "id": "view-in-github",
        "colab_type": "text"
      },
      "source": [
        "<a href=\"https://colab.research.google.com/github/hlarsonhlarson/perceptron/blob/master/Perceptron.ipynb\" target=\"_parent\"><img src=\"https://colab.research.google.com/assets/colab-badge.svg\" alt=\"Open In Colab\"/></a>"
      ]
    },
    {
      "cell_type": "code",
      "metadata": {
        "id": "6o9TSKoeLBWN"
      },
      "source": [
        "import numpy as np"
      ],
      "execution_count": null,
      "outputs": []
    },
    {
      "cell_type": "code",
      "metadata": {
        "id": "UZ7MiZumKZS_"
      },
      "source": [
        "class Perceptron:\r\n",
        "  def __init__(self, learning_rate, iter_nums):\r\n",
        "    self.lr = learning_rate\r\n",
        "    self.n_iters = iter_nums\r\n",
        "    self. activation_func = self.sigmoid()\r\n",
        "    self.weights = None\r\n",
        "    self.bias = None\r\n",
        "  \r\n",
        "  def sigmoid(self, x):\r\n",
        "    return 1 / (1 + np.exp(-x))\r\n",
        "\r\n",
        "  def init_weigths(self, dim):\r\n",
        "    self.weights = np.zeros(dim)\r\n",
        "    self.bias = 0\r\n",
        "\r\n",
        "  def fit(self, X, y):\r\n",
        "    n_samples, n_features = X.shape\r\n",
        "\r\n",
        "    self.init_weigths(dim)\r\n",
        "    for _ in range(self.n_iters):\r\n",
        "\r\n",
        "  def predict(self, X):\r\n",
        "    linear_output = np.dot(X, self.weigths) + self.bias\r\n",
        "    y_predicted = self.activation_func(linear_output)\r\n",
        "    return y_predicted\r\n",
        "\r\n",
        "  def softmax(self, x):\r\n",
        "    e_x = np.exp(x - np.max(x))\r\n",
        "    return e_x / e_x.sum(axis=0)\r\n",
        "\r\n",
        "  def sigmoid_gradient(x):\r\n",
        "    sig = sigmoid(x)\r\n",
        "    return sig * (1-sig)\r\n",
        "  \r\n"
      ],
      "execution_count": null,
      "outputs": []
    }
  ]
}